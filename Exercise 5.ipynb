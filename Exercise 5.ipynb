{
 "cells": [
  {
   "cell_type": "markdown",
   "id": "e1ce6532-22fa-4129-87ea-cd462123e663",
   "metadata": {},
   "source": [
    "# Assignment 5"
   ]
  },
  {
   "cell_type": "markdown",
   "id": "a7abdd38-7cfc-4d24-9487-18247c82b504",
   "metadata": {},
   "source": [
    "## Assignment 5.1"
   ]
  },
  {
   "cell_type": "markdown",
   "id": "dea3cd99-92d1-4b1c-9bf2-69644efd3d70",
   "metadata": {},
   "source": [
    "Given are the following points A(−0.5;1), B(−1;−1.5), C(−1.5;1.5), D(1.5;−0.5) and E(0.5;−0.5) as shown below. The goal is to learn a decision function f using Linear Learning Machines (LLM) that separates A and E from the other points."
   ]
  },
  {
   "cell_type": "markdown",
   "id": "877f2d6a-ddd3-4adc-bac1-634858b26b5b",
   "metadata": {},
   "source": [
    "<img src=\"5_figure.png\" width=\"400\">"
   ]
  },
  {
   "cell_type": "markdown",
   "id": "4cbb9fae-3ca7-439a-b0ab-6a5e030b23fa",
   "metadata": {},
   "source": [
    "a) Compute the kernel matrix for $K(x1, x2) = \\langle x_1, x_2  \\rangle ^2 $."
   ]
  },
  {
   "cell_type": "code",
   "execution_count": null,
   "id": "12c2caf2-c922-462a-970f-25eb872ac137",
   "metadata": {},
   "outputs": [],
   "source": []
  },
  {
   "cell_type": "markdown",
   "id": "e5b7f996-fa39-4ea3-a26f-b5a33001c219",
   "metadata": {},
   "source": [
    "b) "
   ]
  },
  {
   "cell_type": "code",
   "execution_count": null,
   "id": "d0e9d45a-1a3e-4b95-bc20-ec28625d167c",
   "metadata": {},
   "outputs": [],
   "source": []
  },
  {
   "cell_type": "code",
   "execution_count": null,
   "id": "d3de1d9f-0336-47da-be94-66824acc6366",
   "metadata": {},
   "outputs": [],
   "source": []
  }
 ],
 "metadata": {
  "kernelspec": {
   "display_name": "Python 3 (ipykernel)",
   "language": "python",
   "name": "python3"
  },
  "language_info": {
   "codemirror_mode": {
    "name": "ipython",
    "version": 3
   },
   "file_extension": ".py",
   "mimetype": "text/x-python",
   "name": "python",
   "nbconvert_exporter": "python",
   "pygments_lexer": "ipython3",
   "version": "3.9.12"
  }
 },
 "nbformat": 4,
 "nbformat_minor": 5
}
