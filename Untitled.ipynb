{
 "cells": [
  {
   "cell_type": "markdown",
   "id": "74265050-bc09-42ce-8122-ec8678ae992e",
   "metadata": {},
   "source": [
    "# Assignemnt 4"
   ]
  },
  {
   "cell_type": "markdown",
   "id": "37373a63-7778-4fb7-bd6f-0b485f99c92f",
   "metadata": {},
   "source": [
    "## Assignment 4.1"
   ]
  },
  {
   "cell_type": "markdown",
   "id": "efe309c9-7929-4542-996f-723a0a6a3cbd",
   "metadata": {},
   "source": [
    "Describe in your own words the fundamental idea of a Linear Learning Machine (LLM). How can an object be classified? Give an example for a concrete problem that can be classified by an LLM. What problems can not be classified?"
   ]
  },
  {
   "cell_type": "markdown",
   "id": "79fbd32e-f26e-47aa-9ccf-384d06db28b8",
   "metadata": {},
   "source": [
    "LLMs are classifier which aim to \"optimally\" separate space such that each class ends up in its own portion. The fundamental assumption is that the categories can be linearly separated based on their features, by a line in 2D or a manifold in 3D or higher. The linear separation is based on their features and the classification is based on which side of the line the data points lie. The line is a linear combination of the features.\n",
    "\n",
    "One concrete problem that can be solved by LLMs is the classification of the Iris dataset based on the petal/sepal length/width. LLMs cannot solve problems that are no linearly separable, although there is a workaround. "
   ]
  },
  {
   "cell_type": "markdown",
   "id": "3107e6bf-3b5d-4a98-87bc-60f5bb2094ea",
   "metadata": {},
   "source": [
    "## Assignment 4.2"
   ]
  },
  {
   "cell_type": "markdown",
   "id": "1d887860-ab63-4d53-b767-4d1749feee50",
   "metadata": {},
   "source": [
    "What is the dual representation? What are the benefits of this representation? Show the decision function of LLMs in dual representation."
   ]
  },
  {
   "cell_type": "markdown",
   "id": "1df57ab5-ac02-4ecf-957d-bf165823f827",
   "metadata": {},
   "source": [
    "In the context of SVMs, dual representation is an alternative way of formulating certain optimisation problems. In this representation, the features only appear in the dot product. This dual representation introduces Lagrange and, subject to certain constraints, we can optimise using them. \n",
    "\n",
    "The decision function of LLMs is expressed as follows:\n",
    "\n",
    "$$\n",
    "f(x) = \\sum_{i=1}^n \\alpha_i y_i \\langle x_i, x \\rangle +b \n",
    "$$\n",
    "\n",
    "Where $\\alpha_i$ is the Lagrange multiplier, $y_i$ is the class label, $x$ is the input vector, $x_i$ is the point we wish to classify, and $b$ is the bias. Note that the training points only appear in the dot product."
   ]
  },
  {
   "cell_type": "markdown",
   "id": "403125c1-a8d1-4497-814d-59b16010b348",
   "metadata": {},
   "source": [
    "## Assignment 4.3"
   ]
  },
  {
   "cell_type": "markdown",
   "id": "df8d4f9b-e6fe-4735-bcfa-f57a80a39c01",
   "metadata": {},
   "source": [
    "What is a kernel function? How can LLMs make use of kernel functions? What is the benefit? What is a Kernel matrix?"
   ]
  },
  {
   "cell_type": "markdown",
   "id": "b2133284-fb31-4543-af0a-2caf8c8ca3a9",
   "metadata": {},
   "source": []
  },
  {
   "cell_type": "markdown",
   "id": "9a496c00-f580-46d9-b943-06dbdfd6e9ef",
   "metadata": {},
   "source": []
  },
  {
   "cell_type": "markdown",
   "id": "6c09e91f-db25-43b9-9ceb-d6709a98a33a",
   "metadata": {},
   "source": []
  }
 ],
 "metadata": {
  "kernelspec": {
   "display_name": "Python 3 (ipykernel)",
   "language": "python",
   "name": "python3"
  },
  "language_info": {
   "codemirror_mode": {
    "name": "ipython",
    "version": 3
   },
   "file_extension": ".py",
   "mimetype": "text/x-python",
   "name": "python",
   "nbconvert_exporter": "python",
   "pygments_lexer": "ipython3",
   "version": "3.9.12"
  }
 },
 "nbformat": 4,
 "nbformat_minor": 5
}
