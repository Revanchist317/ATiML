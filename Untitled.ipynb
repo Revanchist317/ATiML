{
 "cells": [
  {
   "cell_type": "markdown",
   "id": "74265050-bc09-42ce-8122-ec8678ae992e",
   "metadata": {},
   "source": [
    "# Assignemnt 4"
   ]
  },
  {
   "cell_type": "markdown",
   "id": "37373a63-7778-4fb7-bd6f-0b485f99c92f",
   "metadata": {},
   "source": [
    "## Assignment 4.1"
   ]
  },
  {
   "cell_type": "markdown",
   "id": "efe309c9-7929-4542-996f-723a0a6a3cbd",
   "metadata": {},
   "source": [
    "Describe in your own words the fundamental idea of a Linear Learning Machine (LLM). How can an object be classified? Give an example for a concrete problem that can be classified by an LLM. What problems can not be classified?"
   ]
  },
  {
   "cell_type": "markdown",
   "id": "79fbd32e-f26e-47aa-9ccf-384d06db28b8",
   "metadata": {},
   "source": []
  },
  {
   "cell_type": "markdown",
   "id": "1d887860-ab63-4d53-b767-4d1749feee50",
   "metadata": {},
   "source": []
  },
  {
   "cell_type": "markdown",
   "id": "1df57ab5-ac02-4ecf-957d-bf165823f827",
   "metadata": {},
   "source": []
  },
  {
   "cell_type": "markdown",
   "id": "403125c1-a8d1-4497-814d-59b16010b348",
   "metadata": {},
   "source": []
  },
  {
   "cell_type": "markdown",
   "id": "df8d4f9b-e6fe-4735-bcfa-f57a80a39c01",
   "metadata": {},
   "source": []
  },
  {
   "cell_type": "markdown",
   "id": "b2133284-fb31-4543-af0a-2caf8c8ca3a9",
   "metadata": {},
   "source": []
  },
  {
   "cell_type": "markdown",
   "id": "9a496c00-f580-46d9-b943-06dbdfd6e9ef",
   "metadata": {},
   "source": []
  },
  {
   "cell_type": "markdown",
   "id": "6c09e91f-db25-43b9-9ceb-d6709a98a33a",
   "metadata": {},
   "source": []
  }
 ],
 "metadata": {
  "kernelspec": {
   "display_name": "Python 3 (ipykernel)",
   "language": "python",
   "name": "python3"
  },
  "language_info": {
   "codemirror_mode": {
    "name": "ipython",
    "version": 3
   },
   "file_extension": ".py",
   "mimetype": "text/x-python",
   "name": "python",
   "nbconvert_exporter": "python",
   "pygments_lexer": "ipython3",
   "version": "3.9.12"
  }
 },
 "nbformat": 4,
 "nbformat_minor": 5
}
