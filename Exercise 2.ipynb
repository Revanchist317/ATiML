{
 "cells": [
  {
   "cell_type": "markdown",
   "id": "b82dbdc4-8a59-4652-b66f-e4924637a6bb",
   "metadata": {},
   "source": [
    "# Assignment Sheet 2"
   ]
  },
  {
   "cell_type": "markdown",
   "id": "2ae161ca-e4fe-4210-a0ea-9062fcfb8b9d",
   "metadata": {},
   "source": [
    "## Assignment 2.1"
   ]
  },
  {
   "cell_type": "markdown",
   "id": "86517800-1387-4d44-8ce0-8a4e5dff1ba3",
   "metadata": {},
   "source": [
    "What filter techniques from the feature selection framework can be applied for a text classification task? What filters are not, or at least less, suitable for text? Justify your answer under a careful reconsideration of the nature of the features in use! For simplicity just assume a Bag-Of-Words representation of the text."
   ]
  },
  {
   "cell_type": "markdown",
   "id": "18114322-6f97-4910-bb4e-23d7f31d954a",
   "metadata": {},
   "source": [
    "In the BOW framework, each word is a separate feature with a numerical value representing how many times it was recorded in each document. The first step is selecting which filter method is best for feature selection in this context is to consider the distribution of the words - it is unlikely the words will follow a normal distribution (exponential is more likely). Therefore, simple parametric filters like ANOVA and t-test are not suitable.\n",
    "\n",
    "Mutual information filtering can be used as it quantifies the amount of information shared between a class label and a feature. This is a useful method in our case. Similarly, the chi-square test is useful as it can compare observed vs expected values and determine whether certain words appear more often than we would expect it by chance in each class. The most informative words should be retained (features selected) and the others potentially disregarded (features to be ignored)."
   ]
  },
  {
   "cell_type": "markdown",
   "id": "a0540b46-0030-4e4d-9139-04bd3c071930",
   "metadata": {},
   "source": []
  },
  {
   "cell_type": "markdown",
   "id": "21a1498d-0a49-4710-8907-df0a5a7de082",
   "metadata": {},
   "source": []
  },
  {
   "cell_type": "markdown",
   "id": "74fa8dbe-e707-41c0-8a41-0df124e99ec3",
   "metadata": {},
   "source": []
  },
  {
   "cell_type": "markdown",
   "id": "79fb15f4-4ccc-439f-bf4f-cab024c0c2b3",
   "metadata": {},
   "source": []
  },
  {
   "cell_type": "markdown",
   "id": "c3bf86f8-aa68-4ddd-bcc0-7e2c50486b63",
   "metadata": {},
   "source": []
  }
 ],
 "metadata": {
  "kernelspec": {
   "display_name": "Python 3 (ipykernel)",
   "language": "python",
   "name": "python3"
  },
  "language_info": {
   "codemirror_mode": {
    "name": "ipython",
    "version": 3
   },
   "file_extension": ".py",
   "mimetype": "text/x-python",
   "name": "python",
   "nbconvert_exporter": "python",
   "pygments_lexer": "ipython3",
   "version": "3.9.12"
  }
 },
 "nbformat": 4,
 "nbformat_minor": 5
}
