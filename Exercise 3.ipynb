{
 "cells": [
  {
   "cell_type": "markdown",
   "id": "d58774d6-1a63-4742-8721-ae396f3cfade",
   "metadata": {},
   "source": [
    "# Assignment Sheet 3"
   ]
  },
  {
   "cell_type": "markdown",
   "id": "45775460-24eb-4175-9013-6b388dd1ec30",
   "metadata": {},
   "source": [
    "# Assignment 3.1"
   ]
  },
  {
   "cell_type": "markdown",
   "id": "0767851d-98e7-4f07-b645-9422d4a24328",
   "metadata": {},
   "source": [
    "In this task we generate two dimensional data with two classes (meaning that there are a total of three columns in your data set, features x1, x2 and label) synthetically. Use a tool-kit of your choice.\n"
   ]
  },
  {
   "cell_type": "markdown",
   "id": "7eb2e11a-16ac-4488-9319-be1332635617",
   "metadata": {},
   "source": []
  },
  {
   "cell_type": "markdown",
   "id": "35d7c845-5284-4be6-b82a-fa571777b936",
   "metadata": {},
   "source": []
  },
  {
   "cell_type": "markdown",
   "id": "3f186d41-e522-4f84-94c0-4aa115a69eba",
   "metadata": {},
   "source": []
  },
  {
   "cell_type": "markdown",
   "id": "d44e044a-a178-4137-8fa0-49f2d456538b",
   "metadata": {},
   "source": []
  },
  {
   "cell_type": "markdown",
   "id": "c501f11f-51d7-40c9-9ad3-2235a4c9dc06",
   "metadata": {},
   "source": []
  },
  {
   "cell_type": "markdown",
   "id": "dd177165-737a-4645-8ad2-61ebaa5491ce",
   "metadata": {},
   "source": []
  },
  {
   "cell_type": "code",
   "execution_count": null,
   "id": "7fd61145-a47b-4030-82d1-c6442f9f2d7e",
   "metadata": {},
   "outputs": [],
   "source": []
  }
 ],
 "metadata": {
  "kernelspec": {
   "display_name": "Python 3 (ipykernel)",
   "language": "python",
   "name": "python3"
  },
  "language_info": {
   "codemirror_mode": {
    "name": "ipython",
    "version": 3
   },
   "file_extension": ".py",
   "mimetype": "text/x-python",
   "name": "python",
   "nbconvert_exporter": "python",
   "pygments_lexer": "ipython3",
   "version": "3.9.12"
  }
 },
 "nbformat": 4,
 "nbformat_minor": 5
}
